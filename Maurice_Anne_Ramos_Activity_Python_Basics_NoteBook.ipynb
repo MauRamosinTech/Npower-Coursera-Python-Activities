{
  "cells": [
    {
      "cell_type": "markdown",
      "metadata": {
        "id": "view-in-github",
        "colab_type": "text"
      },
      "source": [
        "<a href=\"https://colab.research.google.com/github/MauRamosinTech/Npower-Coursera-Python-Activities/blob/main/Maurice_Anne_Ramos_Activity_Python_Basics_NoteBook.ipynb\" target=\"_parent\"><img src=\"https://colab.research.google.com/assets/colab-badge.svg\" alt=\"Open In Colab\"/></a>"
      ]
    },
    {
      "cell_type": "markdown",
      "metadata": {
        "id": "l9JA-rQhqrnP"
      },
      "source": [
        "# Python Basics NoteBook"
      ]
    },
    {
      "cell_type": "code",
      "execution_count": 1,
      "metadata": {
        "colab": {
          "base_uri": "https://localhost:8080/"
        },
        "id": "IumM9D1KqrnU",
        "outputId": "29e28866-f9cb-48dc-a77f-8e0716599920"
      },
      "outputs": [
        {
          "output_type": "stream",
          "name": "stdout",
          "text": [
            "3.10.12 (main, Jun 11 2023, 05:26:28) [GCC 11.4.0]\n"
          ]
        }
      ],
      "source": [
        "#Write a Python code to return your Python version\n",
        "import sys\n",
        "print(sys.version)"
      ]
    },
    {
      "cell_type": "code",
      "execution_count": 78,
      "metadata": {
        "colab": {
          "base_uri": "https://localhost:8080/"
        },
        "id": "FuBFRasOqrnW",
        "outputId": "6f8fb4c6-9473-487e-d6c4-b026f56ed6e9"
      },
      "outputs": [
        {
          "output_type": "stream",
          "name": "stdout",
          "text": [
            "Customer id = 513\n"
          ]
        }
      ],
      "source": [
        "#Write a Python code to declare variable id=\"513\".\n",
        "#Print the following statement \"customer id =513\". [Don't use print(\"customer id =513\")]\n",
        "id=513\n",
        "print('Customer id =',id)"
      ]
    },
    {
      "cell_type": "code",
      "execution_count": 77,
      "metadata": {
        "id": "bS8oaVloqrnX"
      },
      "outputs": [],
      "source": [
        "#Run the following statement, why there is an error\n",
        "\n",
        "id=id+1 #no error occured but as you kept on running the code it contiously increment to 1\n",
        "#print(id)"
      ]
    },
    {
      "cell_type": "code",
      "execution_count": 79,
      "metadata": {
        "colab": {
          "base_uri": "https://localhost:8080/"
        },
        "id": "baoItBeHqrnX",
        "outputId": "a82d2a94-1fc7-49ed-adfd-988d0e5927e5"
      },
      "outputs": [
        {
          "output_type": "stream",
          "name": "stdout",
          "text": [
            "514\n"
          ]
        }
      ],
      "source": [
        "#Convert the variable id into an integer, increment it by 1.\n",
        "#Assign the result to variable new_id.\n",
        "#Print the new_id here its always the same result\n",
        "id=int(id)\n",
        "new_id=id+1\n",
        "print(new_id)"
      ]
    },
    {
      "cell_type": "code",
      "execution_count": 26,
      "metadata": {
        "colab": {
          "base_uri": "https://localhost:8080/"
        },
        "id": "DRtjZzurqrnY",
        "outputId": "fca001f3-4ee2-4b27-ba58-b212d0a29032"
      },
      "outputs": [
        {
          "output_type": "stream",
          "name": "stdout",
          "text": [
            "Twinkle, twinkle, little star,\n",
            " \tHow I wonder what you are! \n",
            "\t\tUp above the world so high,\n",
            "\t\t\tLike a diamond in the sky.\n"
          ]
        }
      ],
      "source": [
        "#Write a Python code to print the following string in a specific format (see the output).\n",
        "\n",
        "# Twinkle, twinkle, little star,\n",
        "#     How I wonder what you are!\n",
        "#        Up above the world so high,\n",
        "#            Like a diamond in the sky.\n",
        "print('Twinkle, twinkle, little star,\\n \\tHow I wonder what you are! \\n\\t\\tUp above the world so high,\\n\\t\\t\\tLike a diamond in the sky.')"
      ]
    },
    {
      "cell_type": "code",
      "execution_count": 44,
      "metadata": {
        "colab": {
          "base_uri": "https://localhost:8080/"
        },
        "id": "mMwVuhrOqrnZ",
        "outputId": "a2ab92af-bebb-4074-b5a5-0811f81a5fab"
      },
      "outputs": [
        {
          "output_type": "stream",
          "name": "stdout",
          "text": [
            "P\n"
          ]
        }
      ],
      "source": [
        "#Givin the following string variable, # Print the first element in the string\n",
        "\n",
        "course=\"Python for Data Science\"\n",
        "print(course[0])"
      ]
    },
    {
      "cell_type": "code",
      "execution_count": 45,
      "metadata": {
        "colab": {
          "base_uri": "https://localhost:8080/"
        },
        "id": "8Dvh0fqmqrnZ",
        "outputId": "f60021ba-af8f-42f8-e96f-29e851066e71"
      },
      "outputs": [
        {
          "output_type": "stream",
          "name": "stdout",
          "text": [
            "t\n"
          ]
        }
      ],
      "source": [
        "# Print the element on the 13th index in the string\n",
        "print(course[13])"
      ]
    },
    {
      "cell_type": "code",
      "execution_count": 46,
      "metadata": {
        "colab": {
          "base_uri": "https://localhost:8080/"
        },
        "id": "SxWbLrHTqrna",
        "outputId": "f2020bdf-e738-4a65-da0f-b88966ca0b1c"
      },
      "outputs": [
        {
          "output_type": "stream",
          "name": "stdout",
          "text": [
            "23\n"
          ]
        }
      ],
      "source": [
        "# Find the length of string\n",
        "print(len(course))"
      ]
    },
    {
      "cell_type": "code",
      "execution_count": 51,
      "metadata": {
        "colab": {
          "base_uri": "https://localhost:8080/"
        },
        "id": "LLFq4RVBqrna",
        "outputId": "ab8ae9e2-bba6-44e9-96f7-7817177ca5e9"
      },
      "outputs": [
        {
          "output_type": "stream",
          "name": "stdout",
          "text": [
            "e\n"
          ]
        }
      ],
      "source": [
        "# Print the last element in the string [use negative index]\n",
        "print(course[-1])"
      ]
    },
    {
      "cell_type": "code",
      "execution_count": 53,
      "metadata": {
        "colab": {
          "base_uri": "https://localhost:8080/"
        },
        "id": "Y0f-56XEqrnb",
        "outputId": "9da3cbf6-ee5b-45e8-958b-9078e37aa7f7"
      },
      "outputs": [
        {
          "output_type": "stream",
          "name": "stdout",
          "text": [
            "Data\n"
          ]
        }
      ],
      "source": [
        "# Take the slice on variable course with only index 11 to index 14\n",
        "print(course[11:15])"
      ]
    },
    {
      "cell_type": "code",
      "execution_count": 54,
      "metadata": {
        "colab": {
          "base_uri": "https://localhost:8080/"
        },
        "id": "vPwdJqZYqrnb",
        "outputId": "dbfa27da-e18f-42e9-bfe4-41a548b3c48a"
      },
      "outputs": [
        {
          "output_type": "stream",
          "name": "stdout",
          "text": [
            "Ph ra ic\n"
          ]
        }
      ],
      "source": [
        "# Get every third element in the range from index 0 to index 20\n",
        "print(course[::3])"
      ]
    },
    {
      "cell_type": "code",
      "execution_count": 61,
      "metadata": {
        "colab": {
          "base_uri": "https://localhost:8080/"
        },
        "id": "5y5uFlzeqrnc",
        "outputId": "29a33ade-2c8d-49c9-fefb-a6ec7dad6409"
      },
      "outputs": [
        {
          "output_type": "stream",
          "name": "stdout",
          "text": [
            "Python for Data Science AI & Development\n"
          ]
        }
      ],
      "source": [
        "# Concatenate course string with \", AI & Development\"\n",
        "x=course+' AI & Development'\n",
        "print(x)"
      ]
    },
    {
      "cell_type": "code",
      "execution_count": 62,
      "metadata": {
        "colab": {
          "base_uri": "https://localhost:8080/"
        },
        "id": "Ko8Ncxojqrnc",
        "outputId": "40a6300f-27a3-4313-a44f-36433781cfa4"
      },
      "outputs": [
        {
          "output_type": "stream",
          "name": "stdout",
          "text": [
            "Python_for_Data_Science_AI_&_Development\n"
          ]
        }
      ],
      "source": [
        "# Replace all the spaces with (_). New string should looks like\"Python_for_Data_Science,_AI_&_Development\"\n",
        "course1=x.replace(' ','_')\n",
        "print(course1)"
      ]
    },
    {
      "cell_type": "code",
      "execution_count": 63,
      "metadata": {
        "colab": {
          "base_uri": "https://localhost:8080/"
        },
        "id": "hnQYUUX1qrnd",
        "outputId": "bf8a2f5f-1bf5-4b86-e14e-dbaa33bfad6a"
      },
      "outputs": [
        {
          "output_type": "stream",
          "name": "stdout",
          "text": [
            "PYTHON FOR DATA SCIENCE AI & DEVELOPMENT\n"
          ]
        }
      ],
      "source": [
        "# Convert all the characters in string to upper case\n",
        "course2=x.upper()\n",
        "print(course2)"
      ]
    }
  ],
  "metadata": {
    "kernelspec": {
      "display_name": "Python 3 (ipykernel)",
      "language": "python",
      "name": "python3"
    },
    "language_info": {
      "codemirror_mode": {
        "name": "ipython",
        "version": 3
      },
      "file_extension": ".py",
      "mimetype": "text/x-python",
      "name": "python",
      "nbconvert_exporter": "python",
      "pygments_lexer": "ipython3",
      "version": "3.9.12"
    },
    "colab": {
      "provenance": [],
      "include_colab_link": true
    }
  },
  "nbformat": 4,
  "nbformat_minor": 0
}